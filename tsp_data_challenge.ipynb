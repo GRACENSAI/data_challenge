{
 "cells": [
  {
   "cell_type": "markdown",
   "metadata": {},
   "source": [
    "# Data Challenge to find nearest Airport.\n",
    "\n",
    "To build an efficient script that finds the closest airport to a given user based on their geolocation and the geolocation of the airport.\n",
    "\n",
    "Some important libraries, to calculate geo distance we use geopy library which uses Vicenty distance formula by default and Great Circle distance. For paralellization, Pool library is imported."
   ]
  },
  {
   "cell_type": "code",
   "execution_count": 15,
   "metadata": {
    "collapsed": true
   },
   "outputs": [],
   "source": [
    "#Import necessary modules\n",
    "\n",
    "import gzip\n",
    "import csv\n",
    "import pandas as pd\n",
    "from collections import defaultdict\n",
    "import geopy, geopy.distance\n",
    "from multiprocessing import Pool\n",
    "import shutil\n",
    "import os"
   ]
  },
  {
   "cell_type": "code",
   "execution_count": 47,
   "metadata": {
    "collapsed": false
   },
   "outputs": [
    {
     "data": {
      "text/html": [
       "<div>\n",
       "<table border=\"1\" class=\"dataframe\">\n",
       "  <thead>\n",
       "    <tr style=\"text-align: right;\">\n",
       "      <th></th>\n",
       "      <th>Latitude</th>\n",
       "      <th>Longitude</th>\n",
       "    </tr>\n",
       "  </thead>\n",
       "  <tbody>\n",
       "    <tr>\n",
       "      <th>AER</th>\n",
       "      <td>43.449928</td>\n",
       "      <td>39.956589</td>\n",
       "    </tr>\n",
       "    <tr>\n",
       "      <th>SJM</th>\n",
       "      <td>18.833330</td>\n",
       "      <td>-71.233330</td>\n",
       "    </tr>\n",
       "    <tr>\n",
       "      <th>ACV</th>\n",
       "      <td>40.971640</td>\n",
       "      <td>-124.107090</td>\n",
       "    </tr>\n",
       "    <tr>\n",
       "      <th>TIE</th>\n",
       "      <td>7.333000</td>\n",
       "      <td>35.580000</td>\n",
       "    </tr>\n",
       "    <tr>\n",
       "      <th>LIL</th>\n",
       "      <td>50.570370</td>\n",
       "      <td>3.106430</td>\n",
       "    </tr>\n",
       "  </tbody>\n",
       "</table>\n",
       "</div>"
      ],
      "text/plain": [
       "      Latitude   Longitude\n",
       "AER  43.449928   39.956589\n",
       "SJM  18.833330  -71.233330\n",
       "ACV  40.971640 -124.107090\n",
       "TIE   7.333000   35.580000\n",
       "LIL  50.570370    3.106430"
      ]
     },
     "execution_count": 47,
     "metadata": {},
     "output_type": "execute_result"
    }
   ],
   "source": [
    "## load the airport locations and store it into hash \n",
    "\n",
    "file_location = gzip.open(\"data/optd-sample-20161201.csv.gz\", \"rt\")\n",
    "data_location = defaultdict(list)\n",
    "with file_location as data_file:\n",
    "    reader = csv.DictReader(data_file) \n",
    "    for row in reader:\n",
    "        data_location[row['iata_code']].append(float(row['latitude']))\n",
    "        data_location[row['iata_code']].append(float(row['longitude']))\n",
    "file_location.close()\n",
    "\n",
    "## For visualising airport data\n",
    "df = pd.DataFrame.from_dict(data_location, orient='index')\n",
    "df.columns = ['Latitude', 'Longitude']\n",
    "df.head()"
   ]
  },
  {
   "cell_type": "code",
   "execution_count": 57,
   "metadata": {
    "collapsed": false
   },
   "outputs": [
    {
     "data": {
      "text/html": [
       "<div>\n",
       "<table border=\"1\" class=\"dataframe\">\n",
       "  <thead>\n",
       "    <tr style=\"text-align: right;\">\n",
       "      <th></th>\n",
       "      <th>User_uuid</th>\n",
       "      <th>geoip_latitude</th>\n",
       "      <th>geoip_longitude</th>\n",
       "    </tr>\n",
       "  </thead>\n",
       "  <tbody>\n",
       "    <tr>\n",
       "      <th>0</th>\n",
       "      <td>DDEFEBEA-98ED-49EB-A4E7-9D7BFDB7AA0B</td>\n",
       "      <td>-37.83330154418945</td>\n",
       "      <td>145.0500030517578</td>\n",
       "    </tr>\n",
       "    <tr>\n",
       "      <th>1</th>\n",
       "      <td>DAEF2221-14BE-467B-894A-F101CDCC38E4</td>\n",
       "      <td>52.51670074462891</td>\n",
       "      <td>4.666699886322021</td>\n",
       "    </tr>\n",
       "    <tr>\n",
       "      <th>2</th>\n",
       "      <td>31971B3E-2F80-4F8D-86BA-1F2077DF36A2</td>\n",
       "      <td>35.68500137329102</td>\n",
       "      <td>139.7514038085938</td>\n",
       "    </tr>\n",
       "    <tr>\n",
       "      <th>3</th>\n",
       "      <td>1A29A45C-D560-43D8-ADAB-C2F0AD068FFE</td>\n",
       "      <td>44.84040069580078</td>\n",
       "      <td>-0.5805000066757202</td>\n",
       "    </tr>\n",
       "    <tr>\n",
       "      <th>4</th>\n",
       "      <td>A6EC281B-B8EC-465A-8933-F127472DB0A3</td>\n",
       "      <td>51.96329879760742</td>\n",
       "      <td>4.49970006942749</td>\n",
       "    </tr>\n",
       "  </tbody>\n",
       "</table>\n",
       "</div>"
      ],
      "text/plain": [
       "                              User_uuid      geoip_latitude  \\\n",
       "0  DDEFEBEA-98ED-49EB-A4E7-9D7BFDB7AA0B  -37.83330154418945   \n",
       "1  DAEF2221-14BE-467B-894A-F101CDCC38E4   52.51670074462891   \n",
       "2  31971B3E-2F80-4F8D-86BA-1F2077DF36A2   35.68500137329102   \n",
       "3  1A29A45C-D560-43D8-ADAB-C2F0AD068FFE   44.84040069580078   \n",
       "4  A6EC281B-B8EC-465A-8933-F127472DB0A3   51.96329879760742   \n",
       "\n",
       "       geoip_longitude  \n",
       "0    145.0500030517578  \n",
       "1    4.666699886322021  \n",
       "2    139.7514038085938  \n",
       "3  -0.5805000066757202  \n",
       "4     4.49970006942749  "
      ]
     },
     "execution_count": 57,
     "metadata": {},
     "output_type": "execute_result"
    }
   ],
   "source": [
    "## load User coordinates\n",
    "\n",
    "file_user = gzip.open(\"data/sample_data.csv.gz\", \"rt\")\n",
    "with file_user as f:\n",
    "    reader = csv.reader(f)\n",
    "    next(reader) # Skips header\n",
    "    user_list = list(reader)\n",
    "file_user.close()\n",
    "\n",
    "## For visualising user\n",
    "user_df = pd.DataFrame(user_list, columns=[\"User_uuid\", \"geoip_latitude\", \"geoip_longitude\"])\n",
    "user_df.head()"
   ]
  },
  {
   "cell_type": "code",
   "execution_count": 32,
   "metadata": {
    "collapsed": true
   },
   "outputs": [],
   "source": [
    "## Function for Geodistance calculations of User coordinates with each airport coordinate and return the nearest location to the user.\n",
    "\n",
    "def geodistance_calculation(user):\n",
    "    ## Converting hash to a geo-coordinate list with geopy \n",
    "    pts = []\n",
    "    for p in data_location:\n",
    "        coor = data_location.get(p)\n",
    "        pts.append(geopy.Point(coor[0],coor[1]))\n",
    "\n",
    "    #print(\"User Info : \", user[0], \"\\tCoordinates : \" , user[1], user[2])\n",
    "    onept = geopy.Point(user[1],user[2])\n",
    "    \n",
    "    ## Calculating geodistance between user coordinate and all the airports coordinate   \n",
    "    try:\n",
    "        alldist = [ (p,geopy.distance.distance(p, onept).km) for p in pts ]\n",
    "    except Exception:\n",
    "        alldist = [ (p,geopy.distance.great_circle(p, onept).km) for p in pts ]\n",
    "\n",
    "    nearest_point, distance = min(alldist, key=lambda x: (x[1]))[0] , min(alldist, key=lambda x: (x[1]))[1] # minimal distance\n",
    "    #print(\" Nearest Distance : \", distance ,\"\\tCoordinates : \", nearest_point[0],\", \",nearest_point[1] )\n",
    "    \n",
    "    return (user[0],list(data_location.keys())[list(data_location.values()).index([nearest_point[0],nearest_point[1]])])\n",
    "    \n"
   ]
  },
  {
   "cell_type": "code",
   "execution_count": 33,
   "metadata": {
    "collapsed": false
   },
   "outputs": [
    {
     "data": {
      "text/html": [
       "<div>\n",
       "<table border=\"1\" class=\"dataframe\">\n",
       "  <thead>\n",
       "    <tr style=\"text-align: right;\">\n",
       "      <th></th>\n",
       "      <th>User_uuid</th>\n",
       "      <th>IATA_code</th>\n",
       "    </tr>\n",
       "  </thead>\n",
       "  <tbody>\n",
       "    <tr>\n",
       "      <th>0</th>\n",
       "      <td>DDEFEBEA-98ED-49EB-A4E7-9D7BFDB7AA0B</td>\n",
       "      <td>MBW</td>\n",
       "    </tr>\n",
       "    <tr>\n",
       "      <th>1</th>\n",
       "      <td>DAEF2221-14BE-467B-894A-F101CDCC38E4</td>\n",
       "      <td>AMS</td>\n",
       "    </tr>\n",
       "    <tr>\n",
       "      <th>2</th>\n",
       "      <td>31971B3E-2F80-4F8D-86BA-1F2077DF36A2</td>\n",
       "      <td>HND</td>\n",
       "    </tr>\n",
       "    <tr>\n",
       "      <th>3</th>\n",
       "      <td>1A29A45C-D560-43D8-ADAB-C2F0AD068FFE</td>\n",
       "      <td>BOD</td>\n",
       "    </tr>\n",
       "    <tr>\n",
       "      <th>4</th>\n",
       "      <td>A6EC281B-B8EC-465A-8933-F127472DB0A3</td>\n",
       "      <td>RTM</td>\n",
       "    </tr>\n",
       "  </tbody>\n",
       "</table>\n",
       "</div>"
      ],
      "text/plain": [
       "                              User_uuid IATA_code\n",
       "0  DDEFEBEA-98ED-49EB-A4E7-9D7BFDB7AA0B       MBW\n",
       "1  DAEF2221-14BE-467B-894A-F101CDCC38E4       AMS\n",
       "2  31971B3E-2F80-4F8D-86BA-1F2077DF36A2       HND\n",
       "3  1A29A45C-D560-43D8-ADAB-C2F0AD068FFE       BOD\n",
       "4  A6EC281B-B8EC-465A-8933-F127472DB0A3       RTM"
      ]
     },
     "execution_count": 33,
     "metadata": {},
     "output_type": "execute_result"
    }
   ],
   "source": [
    "# Main function\n",
    "if __name__ == \"__main__\":\n",
    "    user_list = user_list[1:10]  # Change size of user list to view the results\n",
    "    \n",
    "    ## To make it work in paralellize form we have used pool library, so as it can multiprocess, here it uses 4 processes    \n",
    "    with Pool(4) as pro:\n",
    "        result_list = pro.map(geodistance_calculation,  user_list, chunksize=10)\n",
    "        \n",
    "result_df = pd.DataFrame.from_records(result_list,columns=[\"User_uuid\", \"IATA_code\"])\n",
    "result_df.head()"
   ]
  },
  {
   "cell_type": "code",
   "execution_count": null,
   "metadata": {
    "collapsed": true
   },
   "outputs": [],
   "source": [
    "## Writing the list of uuid and its corresponding nearest iata_code to a csv file\n",
    "with open('output/result_file.csv', 'w') as outcsv:   \n",
    "    writer = csv.writer(outcsv, delimiter=',', quoting=csv.QUOTE_ALL, lineterminator='\\n') #configure writer to write standard csv file\n",
    "    writer.writerow(['User_uuid', 'IATA_code'])\n",
    "    for value in result_list:\n",
    "        #Write values to outcsv\n",
    "        writer.writerow([value[0], value[1]])\n",
    "\n",
    "## Compressing output file to gzip format        \n",
    "with open('output/result_file.csv', 'rb') as f_in, gzip.open('output/result_file.csv.gz', 'wb') as f_out:\n",
    "    shutil.copyfileobj(f_in, f_out)\n",
    "\n",
    "## Destroying the output file\n",
    "os.remove('output/result_file.csv')"
   ]
  }
 ],
 "metadata": {
  "anaconda-cloud": {},
  "kernelspec": {
   "display_name": "Python [default]",
   "language": "python",
   "name": "python3"
  },
  "language_info": {
   "codemirror_mode": {
    "name": "ipython",
    "version": 3
   },
   "file_extension": ".py",
   "mimetype": "text/x-python",
   "name": "python",
   "nbconvert_exporter": "python",
   "pygments_lexer": "ipython3",
   "version": "3.5.2"
  }
 },
 "nbformat": 4,
 "nbformat_minor": 1
}
